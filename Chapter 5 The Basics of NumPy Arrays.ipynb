{
 "cells": [
  {
   "cell_type": "markdown",
   "id": "3d63722b",
   "metadata": {},
   "source": [
    "# Chapter 5: The Basics of NumPy Arrays"
   ]
  },
  {
   "cell_type": "markdown",
   "id": "007f98a7",
   "metadata": {},
   "source": [
    "## NumPy Array Attributes"
   ]
  },
  {
   "cell_type": "code",
   "execution_count": 1,
   "id": "44decf37",
   "metadata": {},
   "outputs": [],
   "source": [
    "import numpy as np\n",
    "rng = np.random.default_rng(seed=1701) # for reproducibility"
   ]
  },
  {
   "cell_type": "code",
   "execution_count": 2,
   "id": "d35dbfb0",
   "metadata": {},
   "outputs": [],
   "source": [
    "x1 = rng.integers(10, size=6) # one-dimensional array\n",
    "x2 = rng.integers(10, size=(3,4)) #two-dimensional array\n",
    "x3 = rng.integers(10, size=(3, 4, 5)) # three dimensional array"
   ]
  },
  {
   "cell_type": "code",
   "execution_count": 3,
   "id": "b611a7a7",
   "metadata": {},
   "outputs": [
    {
     "name": "stdout",
     "output_type": "stream",
     "text": [
      "x3 ndim:  3\n",
      "x3 shape:  (3, 4, 5)\n",
      "x3 size:  60\n",
      "x3: dtype:  int64\n"
     ]
    }
   ],
   "source": [
    "print(\"x3 ndim: \", x3.ndim)\n",
    "print(\"x3 shape: \", x3.shape)\n",
    "print(\"x3 size: \", x3.size)\n",
    "print(\"x3: dtype: \", x3.dtype)"
   ]
  },
  {
   "cell_type": "markdown",
   "id": "1578a813",
   "metadata": {},
   "source": [
    "## Array Indexing: Accessing Single Elements"
   ]
  },
  {
   "cell_type": "markdown",
   "id": "34a72cad",
   "metadata": {},
   "source": [
    "Similar to Python's standard list indexing <br>\n",
    "In a one-dimensional array, the ith value (counting from 0) can be accessed by specifying the desired index in quare brackets\n"
   ]
  },
  {
   "cell_type": "code",
   "execution_count": 4,
   "id": "755cd9bd",
   "metadata": {},
   "outputs": [
    {
     "data": {
      "text/plain": [
       "array([9, 4, 0, 3, 8, 6])"
      ]
     },
     "execution_count": 4,
     "metadata": {},
     "output_type": "execute_result"
    }
   ],
   "source": [
    "x1"
   ]
  },
  {
   "cell_type": "code",
   "execution_count": 5,
   "id": "29d5eb1e",
   "metadata": {},
   "outputs": [
    {
     "data": {
      "text/plain": [
       "9"
      ]
     },
     "execution_count": 5,
     "metadata": {},
     "output_type": "execute_result"
    }
   ],
   "source": [
    "x1[0]"
   ]
  },
  {
   "cell_type": "code",
   "execution_count": 6,
   "id": "f9e8c101",
   "metadata": {},
   "outputs": [
    {
     "data": {
      "text/plain": [
       "8"
      ]
     },
     "execution_count": 6,
     "metadata": {},
     "output_type": "execute_result"
    }
   ],
   "source": [
    "x1[4]"
   ]
  },
  {
   "cell_type": "code",
   "execution_count": 7,
   "id": "449e36ec",
   "metadata": {},
   "outputs": [
    {
     "data": {
      "text/plain": [
       "6"
      ]
     },
     "execution_count": 7,
     "metadata": {},
     "output_type": "execute_result"
    }
   ],
   "source": [
    "x1[-1]"
   ]
  },
  {
   "cell_type": "code",
   "execution_count": 8,
   "id": "99c58bc3",
   "metadata": {},
   "outputs": [
    {
     "data": {
      "text/plain": [
       "8"
      ]
     },
     "execution_count": 8,
     "metadata": {},
     "output_type": "execute_result"
    }
   ],
   "source": [
    "x1[-2]"
   ]
  },
  {
   "cell_type": "markdown",
   "id": "57f48421",
   "metadata": {},
   "source": [
    "In a multidemensional arry, use a comma-separated (row, column) tuple:"
   ]
  },
  {
   "cell_type": "code",
   "execution_count": 10,
   "id": "d1d5e71f",
   "metadata": {},
   "outputs": [
    {
     "data": {
      "text/plain": [
       "array([[3, 1, 3, 7],\n",
       "       [4, 0, 2, 3],\n",
       "       [0, 0, 6, 9]])"
      ]
     },
     "execution_count": 10,
     "metadata": {},
     "output_type": "execute_result"
    }
   ],
   "source": [
    "x2"
   ]
  },
  {
   "cell_type": "code",
   "execution_count": 11,
   "id": "f163751e",
   "metadata": {},
   "outputs": [
    {
     "data": {
      "text/plain": [
       "3"
      ]
     },
     "execution_count": 11,
     "metadata": {},
     "output_type": "execute_result"
    }
   ],
   "source": [
    "x2[0, 0]"
   ]
  },
  {
   "cell_type": "code",
   "execution_count": 12,
   "id": "09e5eb1c",
   "metadata": {},
   "outputs": [
    {
     "data": {
      "text/plain": [
       "0"
      ]
     },
     "execution_count": 12,
     "metadata": {},
     "output_type": "execute_result"
    }
   ],
   "source": [
    "x2[2, 0]"
   ]
  },
  {
   "cell_type": "code",
   "execution_count": 13,
   "id": "13de965c",
   "metadata": {},
   "outputs": [
    {
     "data": {
      "text/plain": [
       "9"
      ]
     },
     "execution_count": 13,
     "metadata": {},
     "output_type": "execute_result"
    }
   ],
   "source": [
    "x2[2, -1]"
   ]
  },
  {
   "cell_type": "code",
   "execution_count": 14,
   "id": "88417a76",
   "metadata": {},
   "outputs": [
    {
     "data": {
      "text/plain": [
       "array([[12,  1,  3,  7],\n",
       "       [ 4,  0,  2,  3],\n",
       "       [ 0,  0,  6,  9]])"
      ]
     },
     "execution_count": 14,
     "metadata": {},
     "output_type": "execute_result"
    }
   ],
   "source": [
    "# modify values\n",
    "x2[0, 0] = 12\n",
    "x2"
   ]
  },
  {
   "cell_type": "code",
   "execution_count": 15,
   "id": "ff9d22ed",
   "metadata": {},
   "outputs": [
    {
     "data": {
      "text/plain": [
       "array([3, 4, 0, 3, 8, 6])"
      ]
     },
     "execution_count": 15,
     "metadata": {},
     "output_type": "execute_result"
    }
   ],
   "source": [
    "# WARNING: fixed type so a floating point value in x1 will be truncated\n",
    "\n",
    "x1[0] = 3.983247\n",
    "x1"
   ]
  },
  {
   "cell_type": "markdown",
   "id": "22b60fe6",
   "metadata": {},
   "source": [
    "### Array Slicing: Accessing Subarrays"
   ]
  },
  {
   "cell_type": "code",
   "execution_count": 16,
   "id": "1677639f",
   "metadata": {},
   "outputs": [
    {
     "data": {
      "text/plain": [
       "array([3, 4, 0, 3, 8, 6])"
      ]
     },
     "execution_count": 16,
     "metadata": {},
     "output_type": "execute_result"
    }
   ],
   "source": [
    "# x[start:stop:step]\n",
    "\n",
    "x1"
   ]
  },
  {
   "cell_type": "code",
   "execution_count": 17,
   "id": "41513acb",
   "metadata": {},
   "outputs": [
    {
     "data": {
      "text/plain": [
       "array([3, 4, 0])"
      ]
     },
     "execution_count": 17,
     "metadata": {},
     "output_type": "execute_result"
    }
   ],
   "source": [
    "# First three elements\n",
    "x1[:3]"
   ]
  },
  {
   "cell_type": "code",
   "execution_count": 18,
   "id": "ac0d4b2c",
   "metadata": {},
   "outputs": [
    {
     "data": {
      "text/plain": [
       "array([3, 8, 6])"
      ]
     },
     "execution_count": 18,
     "metadata": {},
     "output_type": "execute_result"
    }
   ],
   "source": [
    "# Elements after index 3\n",
    "x1[3:]"
   ]
  },
  {
   "cell_type": "code",
   "execution_count": 19,
   "id": "12e3d424",
   "metadata": {},
   "outputs": [
    {
     "data": {
      "text/plain": [
       "array([4, 0, 3])"
      ]
     },
     "execution_count": 19,
     "metadata": {},
     "output_type": "execute_result"
    }
   ],
   "source": [
    "# Middle subarray\n",
    "x1[1:4]"
   ]
  },
  {
   "cell_type": "code",
   "execution_count": 20,
   "id": "e5085917",
   "metadata": {},
   "outputs": [
    {
     "data": {
      "text/plain": [
       "array([3, 0, 8])"
      ]
     },
     "execution_count": 20,
     "metadata": {},
     "output_type": "execute_result"
    }
   ],
   "source": [
    "# Every second element\n",
    "x1[::2]"
   ]
  },
  {
   "cell_type": "code",
   "execution_count": 21,
   "id": "b8b99b28",
   "metadata": {},
   "outputs": [
    {
     "data": {
      "text/plain": [
       "array([4, 3, 6])"
      ]
     },
     "execution_count": 21,
     "metadata": {},
     "output_type": "execute_result"
    }
   ],
   "source": [
    "# Every second element, starting at index 1\n",
    "x1[1::2]"
   ]
  },
  {
   "cell_type": "code",
   "execution_count": 22,
   "id": "798b18e2",
   "metadata": {},
   "outputs": [
    {
     "data": {
      "text/plain": [
       "array([6, 8, 3, 0, 4, 3])"
      ]
     },
     "execution_count": 22,
     "metadata": {},
     "output_type": "execute_result"
    }
   ],
   "source": [
    "# All elements are reversed, (using a negative step)\n",
    "x1[::-1]"
   ]
  },
  {
   "cell_type": "code",
   "execution_count": 23,
   "id": "e9c4233a",
   "metadata": {},
   "outputs": [
    {
     "data": {
      "text/plain": [
       "array([8, 0, 3])"
      ]
     },
     "execution_count": 23,
     "metadata": {},
     "output_type": "execute_result"
    }
   ],
   "source": [
    "# Every second element from index 4, reversed\n",
    "x1[4::-2]"
   ]
  },
  {
   "cell_type": "markdown",
   "id": "58c652cf",
   "metadata": {},
   "source": [
    "### Multidimensional Subarrays"
   ]
  },
  {
   "cell_type": "code",
   "execution_count": 24,
   "id": "1b00adc9",
   "metadata": {},
   "outputs": [
    {
     "data": {
      "text/plain": [
       "array([[12,  1,  3,  7],\n",
       "       [ 4,  0,  2,  3],\n",
       "       [ 0,  0,  6,  9]])"
      ]
     },
     "execution_count": 24,
     "metadata": {},
     "output_type": "execute_result"
    }
   ],
   "source": [
    "x2"
   ]
  },
  {
   "cell_type": "code",
   "execution_count": 25,
   "id": "0a406c04",
   "metadata": {},
   "outputs": [
    {
     "data": {
      "text/plain": [
       "array([[12,  1,  3],\n",
       "       [ 4,  0,  2]])"
      ]
     },
     "execution_count": 25,
     "metadata": {},
     "output_type": "execute_result"
    }
   ],
   "source": [
    "# First two rows and three columns\n",
    "x2[:2, :3]"
   ]
  },
  {
   "cell_type": "code",
   "execution_count": 26,
   "id": "23411be3",
   "metadata": {},
   "outputs": [
    {
     "data": {
      "text/plain": [
       "array([[12,  3],\n",
       "       [ 4,  2],\n",
       "       [ 0,  6]])"
      ]
     },
     "execution_count": 26,
     "metadata": {},
     "output_type": "execute_result"
    }
   ],
   "source": [
    "# Three rows, every second column\n",
    "x2[:3, ::2]"
   ]
  },
  {
   "cell_type": "code",
   "execution_count": 27,
   "id": "b29c3b6e",
   "metadata": {},
   "outputs": [
    {
     "data": {
      "text/plain": [
       "array([[ 9,  6,  0,  0],\n",
       "       [ 3,  2,  0,  4],\n",
       "       [ 7,  3,  1, 12]])"
      ]
     },
     "execution_count": 27,
     "metadata": {},
     "output_type": "execute_result"
    }
   ],
   "source": [
    "# All rows and columns, reversed\n",
    "x2[::-1, ::-1]"
   ]
  },
  {
   "cell_type": "code",
   "execution_count": 29,
   "id": "153540eb",
   "metadata": {},
   "outputs": [
    {
     "data": {
      "text/plain": [
       "array([12,  4,  0])"
      ]
     },
     "execution_count": 29,
     "metadata": {},
     "output_type": "execute_result"
    }
   ],
   "source": [
    "# First column of x2\n",
    "x2[:, 0]"
   ]
  },
  {
   "cell_type": "code",
   "execution_count": 30,
   "id": "7b30d5ff",
   "metadata": {},
   "outputs": [
    {
     "data": {
      "text/plain": [
       "array([12,  1,  3,  7])"
      ]
     },
     "execution_count": 30,
     "metadata": {},
     "output_type": "execute_result"
    }
   ],
   "source": [
    "# First row of x2\n",
    "x2[0, :]"
   ]
  },
  {
   "cell_type": "code",
   "execution_count": 31,
   "id": "861cb0c3",
   "metadata": {},
   "outputs": [
    {
     "data": {
      "text/plain": [
       "array([12,  1,  3,  7])"
      ]
     },
     "execution_count": 31,
     "metadata": {},
     "output_type": "execute_result"
    }
   ],
   "source": [
    "# Or\n",
    "x2[0]"
   ]
  },
  {
   "cell_type": "markdown",
   "id": "d71ca074",
   "metadata": {},
   "source": [
    "### Subarrays as No-Copy Views\n",
    "\n",
    "Unlike Python list slices, NumPy array slices are returned as \"views\" rather than \"copies\" of the array data"
   ]
  },
  {
   "cell_type": "code",
   "execution_count": 32,
   "id": "8f5b8f86",
   "metadata": {},
   "outputs": [
    {
     "data": {
      "text/plain": [
       "array([[12,  1,  3,  7],\n",
       "       [ 4,  0,  2,  3],\n",
       "       [ 0,  0,  6,  9]])"
      ]
     },
     "execution_count": 32,
     "metadata": {},
     "output_type": "execute_result"
    }
   ],
   "source": [
    "x2"
   ]
  },
  {
   "cell_type": "code",
   "execution_count": 33,
   "id": "62ae248e",
   "metadata": {},
   "outputs": [
    {
     "data": {
      "text/plain": [
       "array([[12,  1],\n",
       "       [ 4,  0]])"
      ]
     },
     "execution_count": 33,
     "metadata": {},
     "output_type": "execute_result"
    }
   ],
   "source": [
    "# Extract a 2 x 2 subarray\n",
    "x2_sub = x2[:2, :2]\n",
    "\n",
    "x2_sub"
   ]
  },
  {
   "cell_type": "code",
   "execution_count": 34,
   "id": "5f7c621b",
   "metadata": {},
   "outputs": [
    {
     "data": {
      "text/plain": [
       "array([[99,  1],\n",
       "       [ 4,  0]])"
      ]
     },
     "execution_count": 34,
     "metadata": {},
     "output_type": "execute_result"
    }
   ],
   "source": [
    "# If we modify this subarray, we'll see the original array is changed\n",
    "x2_sub[0, 0] = 99\n",
    "\n",
    "x2_sub"
   ]
  },
  {
   "cell_type": "markdown",
   "id": "07e9c57d",
   "metadata": {},
   "source": [
    "### Creating Copies of Arrays"
   ]
  },
  {
   "cell_type": "code",
   "execution_count": 35,
   "id": "e4acded4",
   "metadata": {},
   "outputs": [
    {
     "data": {
      "text/plain": [
       "array([[99,  1],\n",
       "       [ 4,  0]])"
      ]
     },
     "execution_count": 35,
     "metadata": {},
     "output_type": "execute_result"
    }
   ],
   "source": [
    "x2_sub_copy = x2[:2, :2].copy()\n",
    "\n",
    "x2_sub_copy"
   ]
  },
  {
   "cell_type": "code",
   "execution_count": 45,
   "id": "e90bb303",
   "metadata": {},
   "outputs": [
    {
     "name": "stdout",
     "output_type": "stream",
     "text": [
      "x2_sub_copy: \n",
      " [[42  1]\n",
      " [ 4  0]] \n",
      "\n",
      "x2: \n",
      " [[99  1  3  7]\n",
      " [ 4  0  2  3]\n",
      " [ 0  0  6  9]]\n"
     ]
    }
   ],
   "source": [
    "x2_sub_copy[0, 0] = 42\n",
    "\n",
    "print(\"x2_sub_copy: \\n\", x2_sub_copy, \"\\n\")\n",
    "\n",
    "print(\"x2: \\n\", x2)"
   ]
  },
  {
   "cell_type": "markdown",
   "id": "de50be8f",
   "metadata": {},
   "source": [
    "### Reshaping of Arrays\n",
    "\n"
   ]
  },
  {
   "cell_type": "code",
   "execution_count": 49,
   "id": "0ce446e7",
   "metadata": {},
   "outputs": [
    {
     "name": "stdout",
     "output_type": "stream",
     "text": [
      "Grid without reshape: \n",
      " [1 2 3 4 5 6 7 8 9] \n",
      "\n",
      "Grid with reshape: \n",
      " [[1 2 3]\n",
      " [4 5 6]\n",
      " [7 8 9]]\n"
     ]
    }
   ],
   "source": [
    "grid0 = np.arange(1, 10)\n",
    "\n",
    "print(\"Grid without reshape: \\n\", grid0, \"\\n\")\n",
    "\n",
    "grid = np.arange(1, 10).reshape(3, 3)\n",
    "\n",
    "print(\"Grid with reshape: \\n\", grid)"
   ]
  },
  {
   "cell_type": "code",
   "execution_count": 54,
   "id": "c93b90a9",
   "metadata": {},
   "outputs": [
    {
     "data": {
      "text/plain": [
       "array([[1, 2, 3]])"
      ]
     },
     "execution_count": 54,
     "metadata": {},
     "output_type": "execute_result"
    }
   ],
   "source": [
    "# Converting a one-dimensional array into a two-dimensional row or column matrix\n",
    "x = np.array([1, 2, 3])\n",
    "x.reshape((1, 3)) # row vector via reshape"
   ]
  },
  {
   "cell_type": "code",
   "execution_count": 55,
   "id": "042c29d1",
   "metadata": {},
   "outputs": [
    {
     "data": {
      "text/plain": [
       "array([[1],\n",
       "       [2],\n",
       "       [3]])"
      ]
     },
     "execution_count": 55,
     "metadata": {},
     "output_type": "execute_result"
    }
   ],
   "source": [
    "x.reshape((3, 1)) # column vector via reshape"
   ]
  },
  {
   "cell_type": "code",
   "execution_count": 56,
   "id": "0fd0d322",
   "metadata": {},
   "outputs": [
    {
     "data": {
      "text/plain": [
       "array([[1, 2, 3]])"
      ]
     },
     "execution_count": 56,
     "metadata": {},
     "output_type": "execute_result"
    }
   ],
   "source": [
    "# row vector via newaxis\n",
    "x[np.newaxis, :] "
   ]
  },
  {
   "cell_type": "code",
   "execution_count": 57,
   "id": "7fc7f239",
   "metadata": {},
   "outputs": [
    {
     "data": {
      "text/plain": [
       "array([[1],\n",
       "       [2],\n",
       "       [3]])"
      ]
     },
     "execution_count": 57,
     "metadata": {},
     "output_type": "execute_result"
    }
   ],
   "source": [
    "# column vector via newaxis\n",
    "x[:, np.newaxis]"
   ]
  },
  {
   "cell_type": "markdown",
   "id": "17c78e55",
   "metadata": {},
   "source": [
    "### Array Concatenation and Splitting"
   ]
  },
  {
   "cell_type": "code",
   "execution_count": 58,
   "id": "a7906c77",
   "metadata": {},
   "outputs": [
    {
     "data": {
      "text/plain": [
       "array([1, 2, 3, 3, 2, 1])"
      ]
     },
     "execution_count": 58,
     "metadata": {},
     "output_type": "execute_result"
    }
   ],
   "source": [
    "# One-dimensional array\n",
    "x = np.array([1, 2, 3])\n",
    "y = np.array([3, 2, 1])\n",
    "np.concatenate([x, y])"
   ]
  },
  {
   "cell_type": "code",
   "execution_count": 60,
   "id": "47108564",
   "metadata": {},
   "outputs": [
    {
     "data": {
      "text/plain": [
       "array([ 1,  2,  3,  3,  2,  1, 99, 99, 99])"
      ]
     },
     "execution_count": 60,
     "metadata": {},
     "output_type": "execute_result"
    }
   ],
   "source": [
    "# Three one-dimensional arrays\n",
    "z = np.array([99, 99, 99])\n",
    "np.concatenate([x, y, z])"
   ]
  },
  {
   "cell_type": "code",
   "execution_count": 62,
   "id": "bce10076",
   "metadata": {},
   "outputs": [
    {
     "data": {
      "text/plain": [
       "array([[1, 2, 3],\n",
       "       [4, 5, 6],\n",
       "       [1, 2, 3],\n",
       "       [4, 5, 6]])"
      ]
     },
     "execution_count": 62,
     "metadata": {},
     "output_type": "execute_result"
    }
   ],
   "source": [
    "# Two-dimensional arrays \n",
    "grid = np.array([[1, 2, 3],\n",
    "               [4, 5, 6]])\n",
    "\n",
    "np.concatenate([grid, grid])"
   ]
  },
  {
   "cell_type": "code",
   "execution_count": 66,
   "id": "3b2c46a0",
   "metadata": {},
   "outputs": [
    {
     "data": {
      "text/plain": [
       "array([[1, 2, 3, 1, 2, 3],\n",
       "       [4, 5, 6, 4, 5, 6]])"
      ]
     },
     "execution_count": 66,
     "metadata": {},
     "output_type": "execute_result"
    }
   ],
   "source": [
    "# Two-dimensional arrays along axis = 1\n",
    "np.concatenate([grid, grid], axis=1)"
   ]
  },
  {
   "cell_type": "code",
   "execution_count": 67,
   "id": "c2adf26f",
   "metadata": {},
   "outputs": [
    {
     "data": {
      "text/plain": [
       "array([[1, 2, 3],\n",
       "       [1, 2, 3],\n",
       "       [4, 5, 6]])"
      ]
     },
     "execution_count": 67,
     "metadata": {},
     "output_type": "execute_result"
    }
   ],
   "source": [
    "# Arrays with mixed dimensions (use np.vstack (vertical stack) and np.hstack (horizontal stack))\n",
    "np.vstack([x, grid])"
   ]
  },
  {
   "cell_type": "code",
   "execution_count": 71,
   "id": "48f76934",
   "metadata": {},
   "outputs": [
    {
     "data": {
      "text/plain": [
       "array([[ 1,  2,  3, 99],\n",
       "       [ 4,  5,  6, 99]])"
      ]
     },
     "execution_count": 71,
     "metadata": {},
     "output_type": "execute_result"
    }
   ],
   "source": [
    "y = np.array([[99],\n",
    "          [99]])\n",
    "\n",
    "np.hstack([grid, y])"
   ]
  },
  {
   "cell_type": "markdown",
   "id": "7520e914",
   "metadata": {},
   "source": [
    "### Splitting of Arrays"
   ]
  },
  {
   "cell_type": "code",
   "execution_count": 73,
   "id": "bdf2f1a2",
   "metadata": {},
   "outputs": [
    {
     "name": "stdout",
     "output_type": "stream",
     "text": [
      "[1 2 3] [99 99] [3 2 1]\n"
     ]
    }
   ],
   "source": [
    "x = [1, 2, 3, 99, 99, 3, 2, 1]\n",
    "\n",
    "# Split on the points listed ie 3rd and 5th spot in array\n",
    "x1, x2, x3 = np.split(x, [3, 5])\n",
    "print(x1, x2, x3)"
   ]
  },
  {
   "cell_type": "code",
   "execution_count": 75,
   "id": "159e4aeb",
   "metadata": {},
   "outputs": [
    {
     "data": {
      "text/plain": [
       "array([[ 0,  1,  2,  3],\n",
       "       [ 4,  5,  6,  7],\n",
       "       [ 8,  9, 10, 11],\n",
       "       [12, 13, 14, 15]])"
      ]
     },
     "execution_count": 75,
     "metadata": {},
     "output_type": "execute_result"
    }
   ],
   "source": [
    "grid = np.arange(16).reshape((4, 4))\n",
    "grid"
   ]
  },
  {
   "cell_type": "code",
   "execution_count": 77,
   "id": "d49dfe76",
   "metadata": {},
   "outputs": [
    {
     "name": "stdout",
     "output_type": "stream",
     "text": [
      "upper: \n",
      " [[0 1 2 3]\n",
      " [4 5 6 7]] \n",
      "\n",
      "lower: \n",
      " [[ 8  9 10 11]\n",
      " [12 13 14 15]]\n"
     ]
    }
   ],
   "source": [
    "upper, lower = np.vsplit(grid, [2])\n",
    "print(\"upper: \\n\", upper, \"\\n\")\n",
    "print(\"lower: \\n\", lower)"
   ]
  },
  {
   "cell_type": "code",
   "execution_count": 78,
   "id": "07496c2e",
   "metadata": {},
   "outputs": [
    {
     "name": "stdout",
     "output_type": "stream",
     "text": [
      "left: \n",
      " [[ 0  1]\n",
      " [ 4  5]\n",
      " [ 8  9]\n",
      " [12 13]] \n",
      "\n",
      "right: \n",
      " [[ 2  3]\n",
      " [ 6  7]\n",
      " [10 11]\n",
      " [14 15]]\n"
     ]
    }
   ],
   "source": [
    "left, right = np.hsplit(grid, [2])\n",
    "print(\"left: \\n\", left, \"\\n\")\n",
    "print(\"right: \\n\", right)"
   ]
  },
  {
   "cell_type": "code",
   "execution_count": null,
   "id": "1f96beda",
   "metadata": {},
   "outputs": [],
   "source": [
    "# for higher-dimensional arrays, np.dsplit will splitl arrays along the third axis"
   ]
  }
 ],
 "metadata": {
  "kernelspec": {
   "display_name": "firstcnnenv",
   "language": "python",
   "name": "firstcnnenv"
  },
  "language_info": {
   "codemirror_mode": {
    "name": "ipython",
    "version": 3
   },
   "file_extension": ".py",
   "mimetype": "text/x-python",
   "name": "python",
   "nbconvert_exporter": "python",
   "pygments_lexer": "ipython3",
   "version": "3.10.9"
  }
 },
 "nbformat": 4,
 "nbformat_minor": 5
}
