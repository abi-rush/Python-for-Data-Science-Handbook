{
 "cells": [
  {
   "cell_type": "markdown",
   "id": "aaeafc34",
   "metadata": {},
   "source": [
    "# Chapter 6 Computation on NumPy Arrays: Universal Functions"
   ]
  },
  {
   "cell_type": "markdown",
   "id": "21a3ed2c",
   "metadata": {},
   "source": [
    "### The Slowness of Loops"
   ]
  },
  {
   "cell_type": "code",
   "execution_count": 2,
   "id": "c44d119c",
   "metadata": {},
   "outputs": [],
   "source": [
    "# For example puposes, look at the time it takes for this loop to complete\n",
    "\n",
    "import numpy as np\n",
    "rng = np.random.default_rng(seed=1701)"
   ]
  },
  {
   "cell_type": "code",
   "execution_count": 6,
   "id": "cb2d7f3f",
   "metadata": {},
   "outputs": [
    {
     "name": "stdout",
     "output_type": "stream",
     "text": [
      "values: \n",
      " [7 4 2 4 8]\n"
     ]
    },
    {
     "data": {
      "text/plain": [
       "array([0.14285714, 0.25      , 0.5       , 0.25      , 0.125     ])"
      ]
     },
     "execution_count": 6,
     "metadata": {},
     "output_type": "execute_result"
    }
   ],
   "source": [
    "def compute_reciprocals(values):\n",
    "    output = np.empty(len(values))\n",
    "    for i in range(len(values)):\n",
    "        output[i] = 1.0 / values[i]\n",
    "    return output\n",
    "\n",
    "values = rng.integers(1, 10, size=5)\n",
    "print(\"values: \\n\", values)\n",
    "compute_reciprocals(values)"
   ]
  },
  {
   "cell_type": "code",
   "execution_count": 7,
   "id": "108f2f89",
   "metadata": {},
   "outputs": [
    {
     "name": "stdout",
     "output_type": "stream",
     "text": [
      "1.22 s ± 17.8 ms per loop (mean ± std. dev. of 7 runs, 1 loop each)\n"
     ]
    }
   ],
   "source": [
    "# Let's time how long it takes to calculate over a large array\n",
    "\n",
    "big_array = rng.integers(1, 100, size=1000000)\n",
    "%timeit compute_reciprocals(big_array)"
   ]
  },
  {
   "cell_type": "code",
   "execution_count": 8,
   "id": "7b6d34dd",
   "metadata": {},
   "outputs": [
    {
     "name": "stdout",
     "output_type": "stream",
     "text": [
      "[0.14285714 0.25       0.5        0.25       0.125     ]\n",
      "[0.14285714 0.25       0.5        0.25       0.125     ]\n"
     ]
    }
   ],
   "source": [
    "# Compare the results of the following two operations\n",
    "\n",
    "print(compute_reciprocals(values))\n",
    "print(1.0 / values)"
   ]
  },
  {
   "cell_type": "code",
   "execution_count": 11,
   "id": "a0cc5420",
   "metadata": {},
   "outputs": [
    {
     "name": "stdout",
     "output_type": "stream",
     "text": [
      "6.85 µs ± 99.5 ns per loop (mean ± std. dev. of 7 runs, 100,000 loops each)\n"
     ]
    }
   ],
   "source": [
    "# Completed in microseconds (on my machine)\n",
    "%timeit (compute_reciprocals(values))"
   ]
  },
  {
   "cell_type": "code",
   "execution_count": 12,
   "id": "b77ce997",
   "metadata": {},
   "outputs": [
    {
     "name": "stdout",
     "output_type": "stream",
     "text": [
      "899 ns ± 23.7 ns per loop (mean ± std. dev. of 7 runs, 1,000,000 loops each)\n"
     ]
    }
   ],
   "source": [
    "# Completed in nanoseconds (less than the above) (on my machine)\n",
    "%timeit (1.0 / values)"
   ]
  },
  {
   "cell_type": "code",
   "execution_count": 10,
   "id": "e105fa87",
   "metadata": {},
   "outputs": [
    {
     "name": "stdout",
     "output_type": "stream",
     "text": [
      "1.41 ms ± 23.4 µs per loop (mean ± std. dev. of 7 runs, 1,000 loops each)\n"
     ]
    }
   ],
   "source": [
    "# This 1.41 miliseconds is less than the 1.22 seconds seen above on the big_array using a loop\n",
    "%timeit (1.0 / big_array)"
   ]
  },
  {
   "cell_type": "code",
   "execution_count": 14,
   "id": "9df43a28",
   "metadata": {},
   "outputs": [
    {
     "data": {
      "text/plain": [
       "array([0.        , 0.5       , 0.66666667, 0.75      , 0.8       ])"
      ]
     },
     "execution_count": 14,
     "metadata": {},
     "output_type": "execute_result"
    }
   ],
   "source": [
    "# Can also operate between two arrays\n",
    "\n",
    "np.arange(5) / np.arange(1, 6)"
   ]
  },
  {
   "cell_type": "code",
   "execution_count": 15,
   "id": "c4414569",
   "metadata": {},
   "outputs": [
    {
     "name": "stdout",
     "output_type": "stream",
     "text": [
      "[0 1 2 3 4]\n",
      "[1 2 3 4 5]\n"
     ]
    }
   ],
   "source": [
    "print(np.arange(5))\n",
    "print(np.arange(1, 6))"
   ]
  },
  {
   "cell_type": "code",
   "execution_count": 18,
   "id": "3621080d",
   "metadata": {},
   "outputs": [
    {
     "name": "stdout",
     "output_type": "stream",
     "text": [
      "[[0 1 2]\n",
      " [3 4 5]\n",
      " [6 7 8]] \n",
      "\n",
      "[[  1   2   4]\n",
      " [  8  16  32]\n",
      " [ 64 128 256]]\n"
     ]
    }
   ],
   "source": [
    "# Can also operate on multidimensional arrays as well\n",
    "x = np.arange(9).reshape((3, 3))\n",
    "\n",
    "print(x, \"\\n\")\n",
    "print(2 ** x)"
   ]
  },
  {
   "cell_type": "markdown",
   "id": "5d91edb6",
   "metadata": {},
   "source": [
    "## Exploring NumPy's Ufuncs\n",
    "\n",
    "Ufuncs exist in two flavors: unary ufuncs, which operate on a single input, and binary ufuncs, which operate on two inputs."
   ]
  },
  {
   "cell_type": "markdown",
   "id": "5e05f123",
   "metadata": {},
   "source": [
    "### Array Arithmetic "
   ]
  },
  {
   "cell_type": "code",
   "execution_count": 21,
   "id": "8ae6f2f4",
   "metadata": {},
   "outputs": [
    {
     "name": "stdout",
     "output_type": "stream",
     "text": [
      "x     =  [0 1 2 3]\n",
      "x + 5 =  [5 6 7 8]\n",
      "x - 5 =  [-5 -4 -3 -2]\n",
      "x * 2 =  [0 2 4 6]\n",
      "x / 2 =  [0.  0.5 1.  1.5]\n",
      "x // 2 =  [0 0 1 1]\n",
      "-x    =  [ 0 -1 -2 -3]\n",
      "x ** 2 =  [0 1 4 9]\n",
      "x % 2 =  [0 1 0 1]\n"
     ]
    },
    {
     "data": {
      "text/plain": [
       "array([-1.  , -2.25, -4.  , -6.25])"
      ]
     },
     "execution_count": 21,
     "metadata": {},
     "output_type": "execute_result"
    }
   ],
   "source": [
    "x = np.arange(4)\n",
    "\n",
    "print(\"x     = \", x)\n",
    "print(\"x + 5 = \", x + 5)\n",
    "print(\"x - 5 = \", x - 5)\n",
    "print(\"x * 2 = \", x * 2)\n",
    "print(\"x / 2 = \", x / 2)\n",
    "print(\"x // 2 = \", x // 2) # floor division\n",
    "print(\"-x    = \", -x)\n",
    "print(\"x ** 2 = \", x ** 2)\n",
    "print(\"x % 2 = \", x % 2)\n",
    "\n",
    "# Standard order of operations is respected\n",
    "-(0.5*x +1) ** 2"
   ]
  },
  {
   "cell_type": "code",
   "execution_count": 22,
   "id": "26aa16db",
   "metadata": {},
   "outputs": [
    {
     "data": {
      "text/plain": [
       "array([2, 3, 4, 5])"
      ]
     },
     "execution_count": 22,
     "metadata": {},
     "output_type": "execute_result"
    }
   ],
   "source": [
    "# All of these arithmetic operations are simply convenient wrappers around specific ufuncs built into NumPy.\n",
    "# For example, the + operator is a wrapper for the add ufunc:\n",
    "\n",
    "np.add(x, 2)"
   ]
  },
  {
   "cell_type": "markdown",
   "id": "d7b4ff67",
   "metadata": {},
   "source": [
    "np.add <br>\n",
    "np.subtract <br>\n",
    "np.negative <br>\n",
    "np.multiply <br>\n",
    "np.divide <br>\n",
    "np.floor_divide <br>\n",
    "np.power <br>\n",
    "np.mod <br>"
   ]
  },
  {
   "cell_type": "markdown",
   "id": "c6fe788d",
   "metadata": {},
   "source": [
    "### Absolute Value\n",
    "\n",
    "Just as NumPy understands Python's built-in arithmetic operators, it also understands Python's built-in absolute value function:"
   ]
  },
  {
   "cell_type": "code",
   "execution_count": 23,
   "id": "f9acc544",
   "metadata": {},
   "outputs": [
    {
     "data": {
      "text/plain": [
       "array([2, 1, 0, 1, 2])"
      ]
     },
     "execution_count": 23,
     "metadata": {},
     "output_type": "execute_result"
    }
   ],
   "source": [
    "x = np.array([-2, -1, 0, 1, 2])\n",
    "abs(x)"
   ]
  },
  {
   "cell_type": "code",
   "execution_count": 24,
   "id": "0f43f9b5",
   "metadata": {},
   "outputs": [
    {
     "name": "stdout",
     "output_type": "stream",
     "text": [
      "[2 1 0 1 2]\n",
      "[2 1 0 1 2]\n"
     ]
    }
   ],
   "source": [
    "# The ufunc is np.absolute, which is also avalable under alias np.abs\n",
    "\n",
    "print(np.absolute(x))\n",
    "\n",
    "print(np.abs(x))"
   ]
  },
  {
   "cell_type": "code",
   "execution_count": 26,
   "id": "e1fa633f",
   "metadata": {},
   "outputs": [
    {
     "data": {
      "text/plain": [
       "array([5., 5., 2., 1.])"
      ]
     },
     "execution_count": 26,
     "metadata": {},
     "output_type": "execute_result"
    }
   ],
   "source": [
    "# Can also handle complex data, in which case it returns the magnitude:\n",
    "\n",
    "x = np.array([3 - 4j, 4- 3j, 2 + 0j, 0 + 1j])\n",
    "np.abs(x)"
   ]
  },
  {
   "cell_type": "markdown",
   "id": "7017728a",
   "metadata": {},
   "source": [
    "### Trigonometric Functions"
   ]
  },
  {
   "cell_type": "code",
   "execution_count": 27,
   "id": "06494d1e",
   "metadata": {},
   "outputs": [],
   "source": [
    "theta = np.linspace(0, np.pi, 3)"
   ]
  },
  {
   "cell_type": "code",
   "execution_count": 28,
   "id": "3177b96e",
   "metadata": {},
   "outputs": [
    {
     "name": "stdout",
     "output_type": "stream",
     "text": [
      "theta         =  [0.         1.57079633 3.14159265]\n",
      "sin(theta)    =  [0.0000000e+00 1.0000000e+00 1.2246468e-16]\n",
      "cos(theta)    =  [ 1.000000e+00  6.123234e-17 -1.000000e+00]\n",
      "tan(theta)    =  [ 0.00000000e+00  1.63312394e+16 -1.22464680e-16]\n"
     ]
    }
   ],
   "source": [
    "# Trig functions\n",
    "print(\"theta         = \", theta)\n",
    "print(\"sin(theta)    = \", np.sin(theta))\n",
    "print(\"cos(theta)    = \", np.cos(theta))\n",
    "print(\"tan(theta)    = \", np.tan(theta))"
   ]
  },
  {
   "cell_type": "code",
   "execution_count": 32,
   "id": "08266ea5",
   "metadata": {},
   "outputs": [
    {
     "name": "stdout",
     "output_type": "stream",
     "text": [
      "x            =  [-1, 0, 1]\n",
      "arcsin(x)    =  [-1.57079633  0.          1.57079633]\n",
      "arccos(x)    =  [3.14159265 1.57079633 0.        ]\n",
      "arctan(x)    =  [-0.78539816  0.          0.78539816]\n"
     ]
    }
   ],
   "source": [
    "# Inverse Trig functions\n",
    "x = [-1, 0, 1]\n",
    "print(\"x            = \", x)\n",
    "print(\"arcsin(x)    = \", np.arcsin(x))\n",
    "print(\"arccos(x)    = \", np.arccos(x))\n",
    "print(\"arctan(x)    = \", np.arctan(x))"
   ]
  },
  {
   "cell_type": "markdown",
   "id": "3e6da47c",
   "metadata": {},
   "source": [
    "### Exponents and Logarithms"
   ]
  },
  {
   "cell_type": "code",
   "execution_count": 33,
   "id": "d0a85752",
   "metadata": {},
   "outputs": [
    {
     "name": "stdout",
     "output_type": "stream",
     "text": [
      "x    =  [1, 2, 3]\n",
      "e^x  =  [ 2.71828183  7.3890561  20.08553692]\n",
      "2^x  =  [2. 4. 8.]\n",
      "3^x  =  [ 3.  9. 27.]\n"
     ]
    }
   ],
   "source": [
    "x = [1, 2, 3]\n",
    "\n",
    "print(\"x    = \", x)\n",
    "print(\"e^x  = \", np.exp(x))\n",
    "print(\"2^x  = \", np.exp2(x))\n",
    "print(\"3^x  = \", np.power(3., x))"
   ]
  },
  {
   "cell_type": "code",
   "execution_count": 34,
   "id": "df34e23c",
   "metadata": {},
   "outputs": [
    {
     "name": "stdout",
     "output_type": "stream",
     "text": [
      "x        =  [1, 2, 4, 10]\n",
      "ln(x)    =  [0.         0.69314718 1.38629436 2.30258509]\n",
      "log2(x)    =  [0.         1.         2.         3.32192809]\n",
      "log10(x)    =  [0.         0.30103    0.60205999 1.        ]\n"
     ]
    }
   ],
   "source": [
    "# The inverse of the exponentials, the logarithms, are also available\n",
    "\n",
    "x = [1, 2, 4, 10]\n",
    "\n",
    "print(\"x        = \", x)\n",
    "print(\"ln(x)    = \", np.log(x))\n",
    "print(\"log2(x)    = \", np.log2(x))\n",
    "print(\"log10(x)    = \", np.log10(x))"
   ]
  },
  {
   "cell_type": "code",
   "execution_count": 35,
   "id": "b0e53443",
   "metadata": {},
   "outputs": [],
   "source": [
    "# There are more precise versions too\n",
    "# np.expm1()\n",
    "# np.log1p()"
   ]
  },
  {
   "cell_type": "markdown",
   "id": "7f7528f4",
   "metadata": {},
   "source": [
    "### Specialized Ufuncs"
   ]
  },
  {
   "cell_type": "code",
   "execution_count": 40,
   "id": "dc0aafec",
   "metadata": {},
   "outputs": [
    {
     "name": "stdout",
     "output_type": "stream",
     "text": [
      "Requirement already satisfied: scipy in /Users/abigailrushworth/opt/anaconda3/envs/cnn1env/lib/python3.7/site-packages (1.7.3)\r\n",
      "Requirement already satisfied: numpy<1.23.0,>=1.16.5 in /Users/abigailrushworth/opt/anaconda3/envs/cnn1env/lib/python3.7/site-packages (from scipy) (1.21.6)\r\n"
     ]
    },
    {
     "ename": "ModuleNotFoundError",
     "evalue": "No module named 'scipy'",
     "output_type": "error",
     "traceback": [
      "\u001b[0;31m---------------------------------------------------------------------------\u001b[0m",
      "\u001b[0;31mModuleNotFoundError\u001b[0m                       Traceback (most recent call last)",
      "Cell \u001b[0;32mIn[40], line 2\u001b[0m\n\u001b[1;32m      1\u001b[0m get_ipython()\u001b[38;5;241m.\u001b[39msystem(\u001b[38;5;124m'\u001b[39m\u001b[38;5;124mpip3 install scipy\u001b[39m\u001b[38;5;124m'\u001b[39m)\n\u001b[0;32m----> 2\u001b[0m \u001b[38;5;28;01mfrom\u001b[39;00m \u001b[38;5;21;01mscipy\u001b[39;00m \u001b[38;5;28;01mimport\u001b[39;00m special\n\u001b[1;32m      4\u001b[0m \u001b[38;5;66;03m# many functions including gamma, beta, etc. \u001b[39;00m\n",
      "\u001b[0;31mModuleNotFoundError\u001b[0m: No module named 'scipy'"
     ]
    }
   ],
   "source": [
    "!pip3 install scipy\n",
    "from scipy import special\n",
    "\n",
    "# many functions including gamma, beta, etc. "
   ]
  },
  {
   "cell_type": "markdown",
   "id": "ff3a9268",
   "metadata": {},
   "source": [
    "## Advanced Ufunc Features"
   ]
  },
  {
   "cell_type": "markdown",
   "id": "52de585b",
   "metadata": {},
   "source": [
    "### Specifying Output"
   ]
  },
  {
   "cell_type": "code",
   "execution_count": 41,
   "id": "aa7b30ad",
   "metadata": {},
   "outputs": [
    {
     "name": "stdout",
     "output_type": "stream",
     "text": [
      "[ 0. 10. 20. 30. 40.]\n"
     ]
    }
   ],
   "source": [
    "# Specify the array where the result of the calculation will be stored\n",
    "\n",
    "x = np.arange(5)\n",
    "y = np.empty(5)\n",
    "\n",
    "np.multiply(x, 10, out=y)\n",
    "print(y)"
   ]
  },
  {
   "cell_type": "code",
   "execution_count": 42,
   "id": "cfa1faa1",
   "metadata": {},
   "outputs": [
    {
     "name": "stdout",
     "output_type": "stream",
     "text": [
      "[ 1.  0.  2.  0.  4.  0.  8.  0. 16.  0.]\n"
     ]
    }
   ],
   "source": [
    "# Can be used with array views\n",
    "# Write the results of a computation to every other element of a specified array\n",
    "\n",
    "y = np.zeros(10)\n",
    "np.power(2, x, out=y[::2])\n",
    "print(y)"
   ]
  },
  {
   "cell_type": "markdown",
   "id": "700fa349",
   "metadata": {},
   "source": [
    "### Aggregations"
   ]
  },
  {
   "cell_type": "code",
   "execution_count": 45,
   "id": "79b7ef75",
   "metadata": {},
   "outputs": [
    {
     "name": "stdout",
     "output_type": "stream",
     "text": [
      "x: \n",
      " [1 2 3 4 5] \n",
      "\n"
     ]
    },
    {
     "data": {
      "text/plain": [
       "15"
      ]
     },
     "execution_count": 45,
     "metadata": {},
     "output_type": "execute_result"
    }
   ],
   "source": [
    "# For binary ufuncs, aggregations can be computed directly from the object.\n",
    "\n",
    "# We can reduce with a partiuclar operation ie repeatedly apply a given operation to \n",
    "# the elemnets of an array until only a single restult remains\n",
    "\n",
    "x = np.arange(1, 6)\n",
    "print(\"x: \\n\", x, \"\\n\")\n",
    "np.add.reduce(x)"
   ]
  },
  {
   "cell_type": "code",
   "execution_count": 46,
   "id": "9420ab6c",
   "metadata": {},
   "outputs": [
    {
     "name": "stdout",
     "output_type": "stream",
     "text": [
      "x: \n",
      " [1 2 3 4 5] \n",
      "\n"
     ]
    },
    {
     "data": {
      "text/plain": [
       "120"
      ]
     },
     "execution_count": 46,
     "metadata": {},
     "output_type": "execute_result"
    }
   ],
   "source": [
    "x = np.arange(1, 6)\n",
    "print(\"x: \\n\", x, \"\\n\")\n",
    "np.multiply.reduce(x)"
   ]
  },
  {
   "cell_type": "code",
   "execution_count": 47,
   "id": "4e95ba38",
   "metadata": {},
   "outputs": [],
   "source": [
    "# NOTE: There are dedicated NumPy functions for these particular cases\n",
    "# np.sum, np.prod, np.cumsum, np.cumprod (Covered in Chapter 7)"
   ]
  },
  {
   "cell_type": "markdown",
   "id": "b2e44ec5",
   "metadata": {},
   "source": [
    "### Outer Products\n",
    "\n",
    "Any ufunc can compute the output of all pairs of two different inputs using the outer method. This allows you, in one line, to do things like create a multiplication table:"
   ]
  },
  {
   "cell_type": "code",
   "execution_count": 49,
   "id": "8a8793e7",
   "metadata": {},
   "outputs": [
    {
     "data": {
      "text/plain": [
       "array([[ 1,  2,  3,  4,  5],\n",
       "       [ 2,  4,  6,  8, 10],\n",
       "       [ 3,  6,  9, 12, 15],\n",
       "       [ 4,  8, 12, 16, 20],\n",
       "       [ 5, 10, 15, 20, 25]])"
      ]
     },
     "execution_count": 49,
     "metadata": {},
     "output_type": "execute_result"
    }
   ],
   "source": [
    "x = np.arange(1,6)\n",
    "np.multiply.outer(x, x)"
   ]
  },
  {
   "cell_type": "code",
   "execution_count": 50,
   "id": "7d50b1bf",
   "metadata": {},
   "outputs": [],
   "source": [
    "# There is more info on ufunc.at and ufunc.reduceat method in Chapter 10\n",
    "# More information on broadcasting (ufuncs between arrays of differnet shapes and sizes) in Chapter 8"
   ]
  },
  {
   "cell_type": "code",
   "execution_count": null,
   "id": "e017eca4",
   "metadata": {},
   "outputs": [],
   "source": []
  }
 ],
 "metadata": {
  "kernelspec": {
   "display_name": "firstcnnenv",
   "language": "python",
   "name": "firstcnnenv"
  },
  "language_info": {
   "codemirror_mode": {
    "name": "ipython",
    "version": 3
   },
   "file_extension": ".py",
   "mimetype": "text/x-python",
   "name": "python",
   "nbconvert_exporter": "python",
   "pygments_lexer": "ipython3",
   "version": "3.10.9"
  }
 },
 "nbformat": 4,
 "nbformat_minor": 5
}
