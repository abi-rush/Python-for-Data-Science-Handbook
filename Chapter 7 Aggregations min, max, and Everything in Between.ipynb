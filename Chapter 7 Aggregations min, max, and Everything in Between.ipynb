{
 "cells": [
  {
   "cell_type": "markdown",
   "id": "d4888717",
   "metadata": {},
   "source": [
    "# Aggregations: min, max and Everything in Between"
   ]
  },
  {
   "cell_type": "markdown",
   "id": "ec7df2ee",
   "metadata": {},
   "source": [
    "## Summing the Values in an Array"
   ]
  },
  {
   "cell_type": "code",
   "execution_count": 2,
   "id": "37786bca",
   "metadata": {},
   "outputs": [],
   "source": [
    "import numpy as np\n",
    "rng = np.random.default_rng()"
   ]
  },
  {
   "cell_type": "code",
   "execution_count": 3,
   "id": "be5da41b",
   "metadata": {},
   "outputs": [
    {
     "name": "stdout",
     "output_type": "stream",
     "text": [
      "[0.87090866 0.25487264 0.22658598 0.35055756 0.55919989 0.19740636\n",
      " 0.72397532 0.62032556 0.79429509 0.4464762 ]\n"
     ]
    },
    {
     "data": {
      "text/plain": [
       "43.14121608177823"
      ]
     },
     "execution_count": 3,
     "metadata": {},
     "output_type": "execute_result"
    }
   ],
   "source": [
    "L = rng.random(100)\n",
    "print(L[:10])\n",
    "sum(L)"
   ]
  },
  {
   "cell_type": "code",
   "execution_count": 4,
   "id": "fecd0a78",
   "metadata": {},
   "outputs": [
    {
     "data": {
      "text/plain": [
       "43.141216081778225"
      ]
     },
     "execution_count": 4,
     "metadata": {},
     "output_type": "execute_result"
    }
   ],
   "source": [
    "# using numpy aggregations\n",
    "np.sum(L)"
   ]
  },
  {
   "cell_type": "code",
   "execution_count": 5,
   "id": "e180adaa",
   "metadata": {},
   "outputs": [
    {
     "name": "stdout",
     "output_type": "stream",
     "text": [
      "58.6 ms ± 2.9 ms per loop (mean ± std. dev. of 7 runs, 10 loops each)\n",
      "287 µs ± 15.3 µs per loop (mean ± std. dev. of 7 runs, 1,000 loops each)\n"
     ]
    }
   ],
   "source": [
    "# Faster becuase it executes the operation in compiled code\n",
    "big_array = rng.random(1000000)\n",
    "%timeit sum(big_array)\n",
    "%timeit np.sum(big_array)"
   ]
  },
  {
   "cell_type": "markdown",
   "id": "64752a8f",
   "metadata": {},
   "source": [
    "#### **Warning**\n",
    "sum and np.sum are not identical <br>\n",
    "Optional arguments have differnt meanings <br>\n",
    "sum(x, 1) initializes the sum at 1, while <br>\n",
    "np.sum(x, 1) sums along axis 1, and np.sum is aware of multiple dimensions"
   ]
  },
  {
   "cell_type": "markdown",
   "id": "98fcb14e",
   "metadata": {},
   "source": [
    "## Minimum and Maximum"
   ]
  },
  {
   "cell_type": "code",
   "execution_count": 6,
   "id": "24074288",
   "metadata": {},
   "outputs": [
    {
     "data": {
      "text/plain": [
       "(1.3562277478840201e-06, 0.9999995585629549)"
      ]
     },
     "execution_count": 6,
     "metadata": {},
     "output_type": "execute_result"
    }
   ],
   "source": [
    "min(big_array), max(big_array)"
   ]
  },
  {
   "cell_type": "code",
   "execution_count": 7,
   "id": "06abd3a5",
   "metadata": {},
   "outputs": [
    {
     "name": "stdout",
     "output_type": "stream",
     "text": [
      "40.2 ms ± 1.53 ms per loop (mean ± std. dev. of 7 runs, 10 loops each)\n",
      "198 µs ± 11.9 µs per loop (mean ± std. dev. of 7 runs, 10,000 loops each)\n"
     ]
    }
   ],
   "source": [
    "%timeit min(big_array)\n",
    "%timeit np.min(big_array)"
   ]
  },
  {
   "cell_type": "code",
   "execution_count": 8,
   "id": "484c5145",
   "metadata": {},
   "outputs": [
    {
     "name": "stdout",
     "output_type": "stream",
     "text": [
      "1.3562277478840201e-06 0.9999995585629549 500206.1480994317\n"
     ]
    }
   ],
   "source": [
    "# shorter syntax is to use the mothods of the array object itself:\n",
    "print(big_array.min(), big_array.max(), big_array.sum())\n",
    "\n",
    "# Whenever possible, make sure you are using the NumPy version of these aggregates \n",
    "# when operating on NumPy arrays"
   ]
  },
  {
   "cell_type": "code",
   "execution_count": 9,
   "id": "153a1243",
   "metadata": {},
   "outputs": [
    {
     "name": "stdout",
     "output_type": "stream",
     "text": [
      "[[5 9 4 6]\n",
      " [1 0 0 5]\n",
      " [3 8 9 9]]\n"
     ]
    }
   ],
   "source": [
    "M = rng.integers(0, 10, (3, 4))\n",
    "print(M)"
   ]
  },
  {
   "cell_type": "code",
   "execution_count": 10,
   "id": "a19933f0",
   "metadata": {},
   "outputs": [
    {
     "data": {
      "text/plain": [
       "59"
      ]
     },
     "execution_count": 10,
     "metadata": {},
     "output_type": "execute_result"
    }
   ],
   "source": [
    "# Aggregate across all elements of the array\n",
    "M.sum()"
   ]
  },
  {
   "cell_type": "code",
   "execution_count": 11,
   "id": "1b477bd1",
   "metadata": {},
   "outputs": [
    {
     "data": {
      "text/plain": [
       "array([1, 0, 0, 5])"
      ]
     },
     "execution_count": 11,
     "metadata": {},
     "output_type": "execute_result"
    }
   ],
   "source": [
    "# Minimum value in each column\n",
    "M.min(axis=0)"
   ]
  },
  {
   "cell_type": "code",
   "execution_count": 12,
   "id": "311ed8e8",
   "metadata": {},
   "outputs": [
    {
     "data": {
      "text/plain": [
       "array([9, 5, 9])"
      ]
     },
     "execution_count": 12,
     "metadata": {},
     "output_type": "execute_result"
    }
   ],
   "source": [
    "# Maxiumum value in each row\n",
    "M.max(axis=1)"
   ]
  },
  {
   "cell_type": "markdown",
   "id": "8c068ab8",
   "metadata": {},
   "source": [
    "#### **Note** \n",
    "axis specifies which axis will be collapsed not which axis will be returned"
   ]
  },
  {
   "cell_type": "markdown",
   "id": "544e8526",
   "metadata": {},
   "source": [
    "### Other Aggregation Functions\n",
    "\n",
    "Many have NaN-safe counterpartss that ignore the missing values"
   ]
  },
  {
   "cell_type": "markdown",
   "id": "016bcd25",
   "metadata": {},
   "source": [
    "\n",
    "|**Aggregation**|**Function**|**Nan-Safe** |\n",
    "|:--------------|:----------:|:-----------:|\n",
    "|**SUM**        |np.sum      |np.nansum    |\n",
    "|**PRODUCT**    |np.prod     |np.nanprod   |\n",
    "|**MEAN**       |np.mean     |np.nanmean   |\n",
    "|**STD DEV**    |np.std      |np.nanstd    |\n",
    "|**VARIANCE**   |np.var      |np.nanvar    |\n",
    "|**VARIANCE**   |np.min      |np.nanmin    |\n",
    "|**MAXIMUM**    |np.max      |np.nanmax    |\n",
    "|**Index of MIN**|np.argmin  |np.nanargmin |\n",
    "|**Index of MAX**|np.argmax  |np.nanargmax |\n",
    "|**MEDIAN**     |np.median   |np.nanmedian |\n",
    "|**PERCENTILES**|np.percentile|np.nanpercentile|\n",
    "|**ANY TRUE**   |np.any      |N/A          |\n",
    "|**ALL TRUE**.  |np.all      |N/A          |"
   ]
  },
  {
   "cell_type": "markdown",
   "id": "cb1bdb5c",
   "metadata": {},
   "source": [
    "### Example: What is the Average Height of US Presidents?"
   ]
  },
  {
   "cell_type": "code",
   "execution_count": 13,
   "id": "53a6a18b",
   "metadata": {},
   "outputs": [
    {
     "name": "stdout",
     "output_type": "stream",
     "text": [
      "order,name,height(cm)\r\n",
      "1,George Washington,189\r\n",
      "2,John Adams,170\r\n",
      "3,Thomas Jefferson,189\r\n"
     ]
    }
   ],
   "source": [
    "!head -4 data/president_heights.csv"
   ]
  },
  {
   "cell_type": "code",
   "execution_count": 18,
   "id": "3ae96f3b",
   "metadata": {},
   "outputs": [
    {
     "data": {
      "text/html": [
       "<div>\n",
       "<style scoped>\n",
       "    .dataframe tbody tr th:only-of-type {\n",
       "        vertical-align: middle;\n",
       "    }\n",
       "\n",
       "    .dataframe tbody tr th {\n",
       "        vertical-align: top;\n",
       "    }\n",
       "\n",
       "    .dataframe thead th {\n",
       "        text-align: right;\n",
       "    }\n",
       "</style>\n",
       "<table border=\"1\" class=\"dataframe\">\n",
       "  <thead>\n",
       "    <tr style=\"text-align: right;\">\n",
       "      <th></th>\n",
       "      <th>order</th>\n",
       "      <th>name</th>\n",
       "      <th>height(cm)</th>\n",
       "    </tr>\n",
       "  </thead>\n",
       "  <tbody>\n",
       "    <tr>\n",
       "      <th>0</th>\n",
       "      <td>1</td>\n",
       "      <td>George Washington</td>\n",
       "      <td>189</td>\n",
       "    </tr>\n",
       "    <tr>\n",
       "      <th>1</th>\n",
       "      <td>2</td>\n",
       "      <td>John Adams</td>\n",
       "      <td>170</td>\n",
       "    </tr>\n",
       "    <tr>\n",
       "      <th>2</th>\n",
       "      <td>3</td>\n",
       "      <td>Thomas Jefferson</td>\n",
       "      <td>189</td>\n",
       "    </tr>\n",
       "    <tr>\n",
       "      <th>3</th>\n",
       "      <td>4</td>\n",
       "      <td>James Madison</td>\n",
       "      <td>163</td>\n",
       "    </tr>\n",
       "    <tr>\n",
       "      <th>4</th>\n",
       "      <td>5</td>\n",
       "      <td>James Monroe</td>\n",
       "      <td>183</td>\n",
       "    </tr>\n",
       "  </tbody>\n",
       "</table>\n",
       "</div>"
      ],
      "text/plain": [
       "   order               name  height(cm)\n",
       "0      1  George Washington         189\n",
       "1      2         John Adams         170\n",
       "2      3   Thomas Jefferson         189\n",
       "3      4      James Madison         163\n",
       "4      5       James Monroe         183"
      ]
     },
     "execution_count": 18,
     "metadata": {},
     "output_type": "execute_result"
    }
   ],
   "source": [
    "# Pandas package will be explored more in Part III\n",
    "import pandas as pd\n",
    "data = pd.read_csv('data/president_heights.csv')\n",
    "data.head()"
   ]
  },
  {
   "cell_type": "code",
   "execution_count": 19,
   "id": "f1740c73",
   "metadata": {},
   "outputs": [
    {
     "name": "stdout",
     "output_type": "stream",
     "text": [
      "[189 170 189 163 183 171 185 168 173 183 173 173 175 178 183 193 178 173\n",
      " 174 183 183 168 170 178 182 180 183 178 182 188 175 179 183 193 182 183\n",
      " 177 185 188 188 182 185 191 182]\n"
     ]
    }
   ],
   "source": [
    "heights = np.array(data['height(cm)'])\n",
    "print(heights)"
   ]
  },
  {
   "cell_type": "code",
   "execution_count": 20,
   "id": "fd64396b",
   "metadata": {},
   "outputs": [
    {
     "name": "stdout",
     "output_type": "stream",
     "text": [
      "Mean height:       180.04545454545453\n",
      "Std Dev:           6.983599441335736\n",
      "Min height:        163\n",
      "Max height:        193\n"
     ]
    }
   ],
   "source": [
    "print(\"Mean height:      \", heights.mean())\n",
    "print(\"Std Dev:          \", heights.std())\n",
    "print(\"Min height:       \", heights.min())\n",
    "print(\"Max height:       \", heights.max())"
   ]
  },
  {
   "cell_type": "code",
   "execution_count": 23,
   "id": "bb298d98",
   "metadata": {},
   "outputs": [
    {
     "name": "stdout",
     "output_type": "stream",
     "text": [
      "25th Percentile:       174.75\n",
      "Median:                182.0\n",
      "75th Percentile:       183.5\n"
     ]
    }
   ],
   "source": [
    "print(\"25th Percentile:      \", np.percentile(heights, 25))\n",
    "print(\"Median:               \", np.percentile(heights, 50))   \n",
    "print(\"75th Percentile:      \", np.percentile(heights, 75))"
   ]
  },
  {
   "cell_type": "code",
   "execution_count": 25,
   "id": "ae96de86",
   "metadata": {},
   "outputs": [
    {
     "name": "stderr",
     "output_type": "stream",
     "text": [
      "/var/folders/9l/vy9cjvrs5qn5_8x2fs6ktq5m0000gn/T/ipykernel_71787/2416352193.py:5: MatplotlibDeprecationWarning: The seaborn styles shipped by Matplotlib are deprecated since 3.6, as they no longer correspond to the styles shipped by seaborn. However, they will remain available as 'seaborn-v0_8-<style>'. Alternatively, directly use the seaborn API instead.\n",
      "  plt.style.use('seaborn-whitegrid')\n"
     ]
    }
   ],
   "source": [
    "# Using Matplotlib (more on that in Part IV)\n",
    "\n",
    "%matplotlib inline\n",
    "import matplotlib.pyplot as plt\n",
    "plt.style.use('seaborn-whitegrid')"
   ]
  },
  {
   "cell_type": "code",
   "execution_count": 30,
   "id": "86032055",
   "metadata": {},
   "outputs": [
    {
     "data": {
      "image/png": "[encoded data removed]",
      "text/plain": [
       "<Figure size 640x480 with 1 Axes>"
      ]
     },
     "metadata": {},
     "output_type": "display_data"
    }
   ],
   "source": [
    "plt.hist(heights)\n",
    "plt.title('Height Distribution of US Presidents')\n",
    "plt.xlabel('height')\n",
    "plt.ylabel('number');"
   ]
  },
  {
   "cell_type": "code",
   "execution_count": null,
   "id": "5377c9e1",
   "metadata": {},
   "outputs": [],
   "source": []
  }
 ],
 "metadata": {
  "kernelspec": {
   "display_name": "pythondsh",
   "language": "python",
   "name": "pythondsh"
  },
  "language_info": {
   "codemirror_mode": {
    "name": "ipython",
    "version": 3
   },
   "file_extension": ".py",
   "mimetype": "text/x-python",
   "name": "python",
   "nbconvert_exporter": "python",
   "pygments_lexer": "ipython3",
   "version": "3.10.4"
  }
 },
 "nbformat": 4,
 "nbformat_minor": 5
}
